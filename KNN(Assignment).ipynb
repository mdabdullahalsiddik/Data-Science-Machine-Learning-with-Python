{
 "cells": [
  {
   "cell_type": "code",
   "execution_count": 1,
   "id": "c48a99bf",
   "metadata": {},
   "outputs": [],
   "source": [
    "# input library\n",
    "import warnings\n",
    "warnings.filterwarnings(\"ignore\") # unnecessary item not show\n",
    "import pandas as pd\n",
    "import matplotlib.pyplot as plt\n",
    "import seaborn as sns\n",
    "import numpy as np"
   ]
  },
  {
   "cell_type": "code",
   "execution_count": 2,
   "id": "893665f3",
   "metadata": {},
   "outputs": [],
   "source": [
    "df = pd.read_csv(\"weight-height.csv\") # csv file input"
   ]
  },
  {
   "cell_type": "code",
   "execution_count": 3,
   "id": "43f9e162",
   "metadata": {},
   "outputs": [
    {
     "data": {
      "text/html": [
       "<div>\n",
       "<style scoped>\n",
       "    .dataframe tbody tr th:only-of-type {\n",
       "        vertical-align: middle;\n",
       "    }\n",
       "\n",
       "    .dataframe tbody tr th {\n",
       "        vertical-align: top;\n",
       "    }\n",
       "\n",
       "    .dataframe thead th {\n",
       "        text-align: right;\n",
       "    }\n",
       "</style>\n",
       "<table border=\"1\" class=\"dataframe\">\n",
       "  <thead>\n",
       "    <tr style=\"text-align: right;\">\n",
       "      <th></th>\n",
       "      <th>Gender</th>\n",
       "      <th>Height</th>\n",
       "      <th>Weight</th>\n",
       "    </tr>\n",
       "  </thead>\n",
       "  <tbody>\n",
       "    <tr>\n",
       "      <th>0</th>\n",
       "      <td>Male</td>\n",
       "      <td>73.847017</td>\n",
       "      <td>241.893563</td>\n",
       "    </tr>\n",
       "    <tr>\n",
       "      <th>1</th>\n",
       "      <td>Male</td>\n",
       "      <td>68.781904</td>\n",
       "      <td>162.310473</td>\n",
       "    </tr>\n",
       "    <tr>\n",
       "      <th>2</th>\n",
       "      <td>Male</td>\n",
       "      <td>74.110105</td>\n",
       "      <td>212.740856</td>\n",
       "    </tr>\n",
       "    <tr>\n",
       "      <th>3</th>\n",
       "      <td>Male</td>\n",
       "      <td>71.730978</td>\n",
       "      <td>220.042470</td>\n",
       "    </tr>\n",
       "    <tr>\n",
       "      <th>4</th>\n",
       "      <td>Male</td>\n",
       "      <td>69.881796</td>\n",
       "      <td>206.349801</td>\n",
       "    </tr>\n",
       "  </tbody>\n",
       "</table>\n",
       "</div>"
      ],
      "text/plain": [
       "  Gender     Height      Weight\n",
       "0   Male  73.847017  241.893563\n",
       "1   Male  68.781904  162.310473\n",
       "2   Male  74.110105  212.740856\n",
       "3   Male  71.730978  220.042470\n",
       "4   Male  69.881796  206.349801"
      ]
     },
     "execution_count": 3,
     "metadata": {},
     "output_type": "execute_result"
    }
   ],
   "source": [
    "df.head() # csv file show"
   ]
  },
  {
   "cell_type": "code",
   "execution_count": 4,
   "id": "dd397623",
   "metadata": {},
   "outputs": [
    {
     "data": {
      "text/plain": [
       "(8555, 3)"
      ]
     },
     "execution_count": 4,
     "metadata": {},
     "output_type": "execute_result"
    }
   ],
   "source": [
    "df.shape # columns and row size"
   ]
  },
  {
   "cell_type": "code",
   "execution_count": 5,
   "id": "99fc0999",
   "metadata": {},
   "outputs": [
    {
     "name": "stdout",
     "output_type": "stream",
     "text": [
      "<class 'pandas.core.frame.DataFrame'>\n",
      "RangeIndex: 8555 entries, 0 to 8554\n",
      "Data columns (total 3 columns):\n",
      " #   Column  Non-Null Count  Dtype  \n",
      "---  ------  --------------  -----  \n",
      " 0   Gender  8555 non-null   object \n",
      " 1   Height  8555 non-null   float64\n",
      " 2   Weight  8555 non-null   float64\n",
      "dtypes: float64(2), object(1)\n",
      "memory usage: 200.6+ KB\n"
     ]
    }
   ],
   "source": [
    "df.info() # csv file all information"
   ]
  },
  {
   "cell_type": "code",
   "execution_count": 6,
   "id": "f25b669b",
   "metadata": {},
   "outputs": [
    {
     "data": {
      "text/html": [
       "<div>\n",
       "<style scoped>\n",
       "    .dataframe tbody tr th:only-of-type {\n",
       "        vertical-align: middle;\n",
       "    }\n",
       "\n",
       "    .dataframe tbody tr th {\n",
       "        vertical-align: top;\n",
       "    }\n",
       "\n",
       "    .dataframe thead th {\n",
       "        text-align: right;\n",
       "    }\n",
       "</style>\n",
       "<table border=\"1\" class=\"dataframe\">\n",
       "  <thead>\n",
       "    <tr style=\"text-align: right;\">\n",
       "      <th></th>\n",
       "      <th>Height</th>\n",
       "      <th>Weight</th>\n",
       "    </tr>\n",
       "  </thead>\n",
       "  <tbody>\n",
       "    <tr>\n",
       "      <th>count</th>\n",
       "      <td>8555.000000</td>\n",
       "      <td>8555.000000</td>\n",
       "    </tr>\n",
       "    <tr>\n",
       "      <th>mean</th>\n",
       "      <td>66.809925</td>\n",
       "      <td>165.632735</td>\n",
       "    </tr>\n",
       "    <tr>\n",
       "      <th>std</th>\n",
       "      <td>3.851454</td>\n",
       "      <td>32.043922</td>\n",
       "    </tr>\n",
       "    <tr>\n",
       "      <th>min</th>\n",
       "      <td>54.616858</td>\n",
       "      <td>65.780000</td>\n",
       "    </tr>\n",
       "    <tr>\n",
       "      <th>25%</th>\n",
       "      <td>63.957684</td>\n",
       "      <td>139.876803</td>\n",
       "    </tr>\n",
       "    <tr>\n",
       "      <th>50%</th>\n",
       "      <td>66.985923</td>\n",
       "      <td>168.521567</td>\n",
       "    </tr>\n",
       "    <tr>\n",
       "      <th>75%</th>\n",
       "      <td>69.604427</td>\n",
       "      <td>190.666305</td>\n",
       "    </tr>\n",
       "    <tr>\n",
       "      <th>max</th>\n",
       "      <td>80.450000</td>\n",
       "      <td>269.989698</td>\n",
       "    </tr>\n",
       "  </tbody>\n",
       "</table>\n",
       "</div>"
      ],
      "text/plain": [
       "            Height       Weight\n",
       "count  8555.000000  8555.000000\n",
       "mean     66.809925   165.632735\n",
       "std       3.851454    32.043922\n",
       "min      54.616858    65.780000\n",
       "25%      63.957684   139.876803\n",
       "50%      66.985923   168.521567\n",
       "75%      69.604427   190.666305\n",
       "max      80.450000   269.989698"
      ]
     },
     "execution_count": 6,
     "metadata": {},
     "output_type": "execute_result"
    }
   ],
   "source": [
    "df.describe() #csv file all details"
   ]
  },
  {
   "cell_type": "markdown",
   "id": "fdae4585",
   "metadata": {},
   "source": [
    "# Encoder"
   ]
  },
  {
   "cell_type": "code",
   "execution_count": 7,
   "id": "492e8d75",
   "metadata": {},
   "outputs": [],
   "source": [
    "from sklearn.preprocessing import LabelEncoder # input LabelEncoder"
   ]
  },
  {
   "cell_type": "code",
   "execution_count": 8,
   "id": "921c3cac",
   "metadata": {},
   "outputs": [],
   "source": [
    "le = LabelEncoder() # createing LabelEncoder object"
   ]
  },
  {
   "cell_type": "code",
   "execution_count": 9,
   "id": "5531ddcb",
   "metadata": {},
   "outputs": [],
   "source": [
    "from pandas.core.dtypes.common import is_numeric_dtype # input numeric data type "
   ]
  },
  {
   "cell_type": "code",
   "execution_count": 10,
   "id": "72d02191",
   "metadata": {},
   "outputs": [],
   "source": [
    "# useing  for loop to Encoder\n",
    "for column in df.columns: \n",
    "    if is_numeric_dtype(df[column]):\n",
    "        continue\n",
    "    else:\n",
    "        df[column] = le.fit_transform(df[column])"
   ]
  },
  {
   "cell_type": "code",
   "execution_count": 11,
   "id": "23cc83f4",
   "metadata": {},
   "outputs": [
    {
     "data": {
      "text/html": [
       "<div>\n",
       "<style scoped>\n",
       "    .dataframe tbody tr th:only-of-type {\n",
       "        vertical-align: middle;\n",
       "    }\n",
       "\n",
       "    .dataframe tbody tr th {\n",
       "        vertical-align: top;\n",
       "    }\n",
       "\n",
       "    .dataframe thead th {\n",
       "        text-align: right;\n",
       "    }\n",
       "</style>\n",
       "<table border=\"1\" class=\"dataframe\">\n",
       "  <thead>\n",
       "    <tr style=\"text-align: right;\">\n",
       "      <th></th>\n",
       "      <th>Gender</th>\n",
       "      <th>Height</th>\n",
       "      <th>Weight</th>\n",
       "    </tr>\n",
       "  </thead>\n",
       "  <tbody>\n",
       "    <tr>\n",
       "      <th>0</th>\n",
       "      <td>1</td>\n",
       "      <td>73.847017</td>\n",
       "      <td>241.893563</td>\n",
       "    </tr>\n",
       "    <tr>\n",
       "      <th>1</th>\n",
       "      <td>1</td>\n",
       "      <td>68.781904</td>\n",
       "      <td>162.310473</td>\n",
       "    </tr>\n",
       "    <tr>\n",
       "      <th>2</th>\n",
       "      <td>1</td>\n",
       "      <td>74.110105</td>\n",
       "      <td>212.740856</td>\n",
       "    </tr>\n",
       "    <tr>\n",
       "      <th>3</th>\n",
       "      <td>1</td>\n",
       "      <td>71.730978</td>\n",
       "      <td>220.042470</td>\n",
       "    </tr>\n",
       "    <tr>\n",
       "      <th>4</th>\n",
       "      <td>1</td>\n",
       "      <td>69.881796</td>\n",
       "      <td>206.349801</td>\n",
       "    </tr>\n",
       "  </tbody>\n",
       "</table>\n",
       "</div>"
      ],
      "text/plain": [
       "   Gender     Height      Weight\n",
       "0       1  73.847017  241.893563\n",
       "1       1  68.781904  162.310473\n",
       "2       1  74.110105  212.740856\n",
       "3       1  71.730978  220.042470\n",
       "4       1  69.881796  206.349801"
      ]
     },
     "execution_count": 11,
     "metadata": {},
     "output_type": "execute_result"
    }
   ],
   "source": [
    "df.head() # LabelEncoder csv file show"
   ]
  },
  {
   "cell_type": "code",
   "execution_count": 12,
   "id": "5da70c3c",
   "metadata": {},
   "outputs": [],
   "source": [
    "df.to_csv(\"data.csv\") # csv file download"
   ]
  },
  {
   "cell_type": "code",
   "execution_count": 13,
   "id": "1a36b32d",
   "metadata": {},
   "outputs": [],
   "source": [
    "x = df[[\"Gender\",\"Height\"]] # two dimensional array to x (Gender & Height)"
   ]
  },
  {
   "cell_type": "code",
   "execution_count": 14,
   "id": "dd03369e",
   "metadata": {},
   "outputs": [],
   "source": [
    "y = df[[\"Weight\"]] # two dimensional array to y (Weight)"
   ]
  },
  {
   "cell_type": "code",
   "execution_count": 15,
   "id": "5634638b",
   "metadata": {},
   "outputs": [
    {
     "data": {
      "text/html": [
       "<div>\n",
       "<style scoped>\n",
       "    .dataframe tbody tr th:only-of-type {\n",
       "        vertical-align: middle;\n",
       "    }\n",
       "\n",
       "    .dataframe tbody tr th {\n",
       "        vertical-align: top;\n",
       "    }\n",
       "\n",
       "    .dataframe thead th {\n",
       "        text-align: right;\n",
       "    }\n",
       "</style>\n",
       "<table border=\"1\" class=\"dataframe\">\n",
       "  <thead>\n",
       "    <tr style=\"text-align: right;\">\n",
       "      <th></th>\n",
       "      <th>Gender</th>\n",
       "      <th>Height</th>\n",
       "    </tr>\n",
       "  </thead>\n",
       "  <tbody>\n",
       "    <tr>\n",
       "      <th>0</th>\n",
       "      <td>1</td>\n",
       "      <td>73.847017</td>\n",
       "    </tr>\n",
       "    <tr>\n",
       "      <th>1</th>\n",
       "      <td>1</td>\n",
       "      <td>68.781904</td>\n",
       "    </tr>\n",
       "    <tr>\n",
       "      <th>2</th>\n",
       "      <td>1</td>\n",
       "      <td>74.110105</td>\n",
       "    </tr>\n",
       "    <tr>\n",
       "      <th>3</th>\n",
       "      <td>1</td>\n",
       "      <td>71.730978</td>\n",
       "    </tr>\n",
       "    <tr>\n",
       "      <th>4</th>\n",
       "      <td>1</td>\n",
       "      <td>69.881796</td>\n",
       "    </tr>\n",
       "  </tbody>\n",
       "</table>\n",
       "</div>"
      ],
      "text/plain": [
       "   Gender     Height\n",
       "0       1  73.847017\n",
       "1       1  68.781904\n",
       "2       1  74.110105\n",
       "3       1  71.730978\n",
       "4       1  69.881796"
      ]
     },
     "execution_count": 15,
     "metadata": {},
     "output_type": "execute_result"
    }
   ],
   "source": [
    "x.head() # two dimensional array to x show"
   ]
  },
  {
   "cell_type": "code",
   "execution_count": 16,
   "id": "66da5373",
   "metadata": {},
   "outputs": [
    {
     "data": {
      "text/html": [
       "<div>\n",
       "<style scoped>\n",
       "    .dataframe tbody tr th:only-of-type {\n",
       "        vertical-align: middle;\n",
       "    }\n",
       "\n",
       "    .dataframe tbody tr th {\n",
       "        vertical-align: top;\n",
       "    }\n",
       "\n",
       "    .dataframe thead th {\n",
       "        text-align: right;\n",
       "    }\n",
       "</style>\n",
       "<table border=\"1\" class=\"dataframe\">\n",
       "  <thead>\n",
       "    <tr style=\"text-align: right;\">\n",
       "      <th></th>\n",
       "      <th>Weight</th>\n",
       "    </tr>\n",
       "  </thead>\n",
       "  <tbody>\n",
       "    <tr>\n",
       "      <th>0</th>\n",
       "      <td>241.893563</td>\n",
       "    </tr>\n",
       "    <tr>\n",
       "      <th>1</th>\n",
       "      <td>162.310473</td>\n",
       "    </tr>\n",
       "    <tr>\n",
       "      <th>2</th>\n",
       "      <td>212.740856</td>\n",
       "    </tr>\n",
       "    <tr>\n",
       "      <th>3</th>\n",
       "      <td>220.042470</td>\n",
       "    </tr>\n",
       "    <tr>\n",
       "      <th>4</th>\n",
       "      <td>206.349801</td>\n",
       "    </tr>\n",
       "  </tbody>\n",
       "</table>\n",
       "</div>"
      ],
      "text/plain": [
       "       Weight\n",
       "0  241.893563\n",
       "1  162.310473\n",
       "2  212.740856\n",
       "3  220.042470\n",
       "4  206.349801"
      ]
     },
     "execution_count": 16,
     "metadata": {},
     "output_type": "execute_result"
    }
   ],
   "source": [
    "y.head() # two dimensional array to y show"
   ]
  },
  {
   "cell_type": "code",
   "execution_count": 17,
   "id": "0917825f",
   "metadata": {},
   "outputs": [],
   "source": [
    "from sklearn.model_selection import train_test_split # input train_test_split "
   ]
  },
  {
   "cell_type": "code",
   "execution_count": 18,
   "id": "c5124f87",
   "metadata": {},
   "outputs": [],
   "source": [
    "xtrain,xtest,ytrain,ytest = train_test_split(x,y,train_size=.70,random_state=1) #training & testing  data"
   ]
  },
  {
   "cell_type": "code",
   "execution_count": 19,
   "id": "66a9bc87",
   "metadata": {},
   "outputs": [
    {
     "data": {
      "text/html": [
       "<div>\n",
       "<style scoped>\n",
       "    .dataframe tbody tr th:only-of-type {\n",
       "        vertical-align: middle;\n",
       "    }\n",
       "\n",
       "    .dataframe tbody tr th {\n",
       "        vertical-align: top;\n",
       "    }\n",
       "\n",
       "    .dataframe thead th {\n",
       "        text-align: right;\n",
       "    }\n",
       "</style>\n",
       "<table border=\"1\" class=\"dataframe\">\n",
       "  <thead>\n",
       "    <tr style=\"text-align: right;\">\n",
       "      <th></th>\n",
       "      <th>Gender</th>\n",
       "      <th>Height</th>\n",
       "    </tr>\n",
       "  </thead>\n",
       "  <tbody>\n",
       "    <tr>\n",
       "      <th>1277</th>\n",
       "      <td>1</td>\n",
       "      <td>72.385301</td>\n",
       "    </tr>\n",
       "    <tr>\n",
       "      <th>5361</th>\n",
       "      <td>0</td>\n",
       "      <td>60.960147</td>\n",
       "    </tr>\n",
       "    <tr>\n",
       "      <th>5728</th>\n",
       "      <td>0</td>\n",
       "      <td>69.119292</td>\n",
       "    </tr>\n",
       "    <tr>\n",
       "      <th>4276</th>\n",
       "      <td>1</td>\n",
       "      <td>68.271050</td>\n",
       "    </tr>\n",
       "    <tr>\n",
       "      <th>3112</th>\n",
       "      <td>1</td>\n",
       "      <td>64.991405</td>\n",
       "    </tr>\n",
       "  </tbody>\n",
       "</table>\n",
       "</div>"
      ],
      "text/plain": [
       "      Gender     Height\n",
       "1277       1  72.385301\n",
       "5361       0  60.960147\n",
       "5728       0  69.119292\n",
       "4276       1  68.271050\n",
       "3112       1  64.991405"
      ]
     },
     "execution_count": 19,
     "metadata": {},
     "output_type": "execute_result"
    }
   ],
   "source": [
    "xtrain.head() # training x data show"
   ]
  },
  {
   "cell_type": "code",
   "execution_count": 20,
   "id": "45c0a9cd",
   "metadata": {},
   "outputs": [
    {
     "data": {
      "text/plain": [
       "(5988, 2)"
      ]
     },
     "execution_count": 20,
     "metadata": {},
     "output_type": "execute_result"
    }
   ],
   "source": [
    "xtrain.shape # training x data size"
   ]
  },
  {
   "cell_type": "code",
   "execution_count": 21,
   "id": "92eaa2d6",
   "metadata": {},
   "outputs": [
    {
     "data": {
      "text/html": [
       "<div>\n",
       "<style scoped>\n",
       "    .dataframe tbody tr th:only-of-type {\n",
       "        vertical-align: middle;\n",
       "    }\n",
       "\n",
       "    .dataframe tbody tr th {\n",
       "        vertical-align: top;\n",
       "    }\n",
       "\n",
       "    .dataframe thead th {\n",
       "        text-align: right;\n",
       "    }\n",
       "</style>\n",
       "<table border=\"1\" class=\"dataframe\">\n",
       "  <thead>\n",
       "    <tr style=\"text-align: right;\">\n",
       "      <th></th>\n",
       "      <th>Weight</th>\n",
       "    </tr>\n",
       "  </thead>\n",
       "  <tbody>\n",
       "    <tr>\n",
       "      <th>1277</th>\n",
       "      <td>189.165592</td>\n",
       "    </tr>\n",
       "    <tr>\n",
       "      <th>5361</th>\n",
       "      <td>124.876796</td>\n",
       "    </tr>\n",
       "    <tr>\n",
       "      <th>5728</th>\n",
       "      <td>168.864403</td>\n",
       "    </tr>\n",
       "    <tr>\n",
       "      <th>4276</th>\n",
       "      <td>172.941248</td>\n",
       "    </tr>\n",
       "    <tr>\n",
       "      <th>3112</th>\n",
       "      <td>144.551044</td>\n",
       "    </tr>\n",
       "  </tbody>\n",
       "</table>\n",
       "</div>"
      ],
      "text/plain": [
       "          Weight\n",
       "1277  189.165592\n",
       "5361  124.876796\n",
       "5728  168.864403\n",
       "4276  172.941248\n",
       "3112  144.551044"
      ]
     },
     "execution_count": 21,
     "metadata": {},
     "output_type": "execute_result"
    }
   ],
   "source": [
    "ytrain.head() # training y data show"
   ]
  },
  {
   "cell_type": "code",
   "execution_count": 22,
   "id": "1dd1edad",
   "metadata": {},
   "outputs": [
    {
     "data": {
      "text/plain": [
       "(5988, 1)"
      ]
     },
     "execution_count": 22,
     "metadata": {},
     "output_type": "execute_result"
    }
   ],
   "source": [
    "ytrain.shape # training y data size"
   ]
  },
  {
   "cell_type": "code",
   "execution_count": 23,
   "id": "a0ecba9c",
   "metadata": {},
   "outputs": [
    {
     "data": {
      "text/html": [
       "<div>\n",
       "<style scoped>\n",
       "    .dataframe tbody tr th:only-of-type {\n",
       "        vertical-align: middle;\n",
       "    }\n",
       "\n",
       "    .dataframe tbody tr th {\n",
       "        vertical-align: top;\n",
       "    }\n",
       "\n",
       "    .dataframe thead th {\n",
       "        text-align: right;\n",
       "    }\n",
       "</style>\n",
       "<table border=\"1\" class=\"dataframe\">\n",
       "  <thead>\n",
       "    <tr style=\"text-align: right;\">\n",
       "      <th></th>\n",
       "      <th>Gender</th>\n",
       "      <th>Height</th>\n",
       "    </tr>\n",
       "  </thead>\n",
       "  <tbody>\n",
       "    <tr>\n",
       "      <th>7154</th>\n",
       "      <td>0</td>\n",
       "      <td>65.068038</td>\n",
       "    </tr>\n",
       "    <tr>\n",
       "      <th>3258</th>\n",
       "      <td>1</td>\n",
       "      <td>70.824643</td>\n",
       "    </tr>\n",
       "    <tr>\n",
       "      <th>2188</th>\n",
       "      <td>1</td>\n",
       "      <td>68.663594</td>\n",
       "    </tr>\n",
       "    <tr>\n",
       "      <th>5609</th>\n",
       "      <td>0</td>\n",
       "      <td>65.987610</td>\n",
       "    </tr>\n",
       "    <tr>\n",
       "      <th>3186</th>\n",
       "      <td>1</td>\n",
       "      <td>70.901461</td>\n",
       "    </tr>\n",
       "  </tbody>\n",
       "</table>\n",
       "</div>"
      ],
      "text/plain": [
       "      Gender     Height\n",
       "7154       0  65.068038\n",
       "3258       1  70.824643\n",
       "2188       1  68.663594\n",
       "5609       0  65.987610\n",
       "3186       1  70.901461"
      ]
     },
     "execution_count": 23,
     "metadata": {},
     "output_type": "execute_result"
    }
   ],
   "source": [
    "xtest.head() # testing x data show"
   ]
  },
  {
   "cell_type": "code",
   "execution_count": 24,
   "id": "2678c6fd",
   "metadata": {},
   "outputs": [
    {
     "data": {
      "text/plain": [
       "(2567, 2)"
      ]
     },
     "execution_count": 24,
     "metadata": {},
     "output_type": "execute_result"
    }
   ],
   "source": [
    "xtest.shape # testing x data size"
   ]
  },
  {
   "cell_type": "code",
   "execution_count": 25,
   "id": "6c0bdc97",
   "metadata": {},
   "outputs": [
    {
     "data": {
      "text/html": [
       "<div>\n",
       "<style scoped>\n",
       "    .dataframe tbody tr th:only-of-type {\n",
       "        vertical-align: middle;\n",
       "    }\n",
       "\n",
       "    .dataframe tbody tr th {\n",
       "        vertical-align: top;\n",
       "    }\n",
       "\n",
       "    .dataframe thead th {\n",
       "        text-align: right;\n",
       "    }\n",
       "</style>\n",
       "<table border=\"1\" class=\"dataframe\">\n",
       "  <thead>\n",
       "    <tr style=\"text-align: right;\">\n",
       "      <th></th>\n",
       "      <th>Weight</th>\n",
       "    </tr>\n",
       "  </thead>\n",
       "  <tbody>\n",
       "    <tr>\n",
       "      <th>7154</th>\n",
       "      <td>160.800726</td>\n",
       "    </tr>\n",
       "    <tr>\n",
       "      <th>3258</th>\n",
       "      <td>184.516688</td>\n",
       "    </tr>\n",
       "    <tr>\n",
       "      <th>2188</th>\n",
       "      <td>184.262796</td>\n",
       "    </tr>\n",
       "    <tr>\n",
       "      <th>5609</th>\n",
       "      <td>166.844114</td>\n",
       "    </tr>\n",
       "    <tr>\n",
       "      <th>3186</th>\n",
       "      <td>200.466282</td>\n",
       "    </tr>\n",
       "  </tbody>\n",
       "</table>\n",
       "</div>"
      ],
      "text/plain": [
       "          Weight\n",
       "7154  160.800726\n",
       "3258  184.516688\n",
       "2188  184.262796\n",
       "5609  166.844114\n",
       "3186  200.466282"
      ]
     },
     "execution_count": 25,
     "metadata": {},
     "output_type": "execute_result"
    }
   ],
   "source": [
    "ytest.head() # testing y data show"
   ]
  },
  {
   "cell_type": "code",
   "execution_count": 26,
   "id": "c2ad4f20",
   "metadata": {},
   "outputs": [
    {
     "data": {
      "text/plain": [
       "(2567, 1)"
      ]
     },
     "execution_count": 26,
     "metadata": {},
     "output_type": "execute_result"
    }
   ],
   "source": [
    "ytest.shape # testing y data size"
   ]
  },
  {
   "cell_type": "markdown",
   "id": "a2f4e512",
   "metadata": {},
   "source": [
    "# Linear Regression"
   ]
  },
  {
   "cell_type": "code",
   "execution_count": 27,
   "id": "199b9c0b",
   "metadata": {},
   "outputs": [],
   "source": [
    "from sklearn.linear_model import LinearRegression # input LinearRegression"
   ]
  },
  {
   "cell_type": "code",
   "execution_count": 28,
   "id": "000cf69a",
   "metadata": {},
   "outputs": [],
   "source": [
    "reg = LinearRegression() # createing LinearRegression object"
   ]
  },
  {
   "cell_type": "code",
   "execution_count": 29,
   "id": "676f4615",
   "metadata": {},
   "outputs": [
    {
     "data": {
      "text/plain": [
       "LinearRegression()"
      ]
     },
     "execution_count": 29,
     "metadata": {},
     "output_type": "execute_result"
    }
   ],
   "source": [
    "reg.fit(xtrain,ytrain) #training and testing data the model"
   ]
  },
  {
   "cell_type": "code",
   "execution_count": 30,
   "id": "403053e8",
   "metadata": {},
   "outputs": [
    {
     "data": {
      "text/plain": [
       "array([[19.34359322,  5.96887438]])"
      ]
     },
     "execution_count": 30,
     "metadata": {},
     "output_type": "execute_result"
    }
   ],
   "source": [
    "reg.coef_ # m"
   ]
  },
  {
   "cell_type": "code",
   "execution_count": 31,
   "id": "4a875739",
   "metadata": {},
   "outputs": [
    {
     "data": {
      "text/plain": [
       "array([-244.55280903])"
      ]
     },
     "execution_count": 31,
     "metadata": {},
     "output_type": "execute_result"
    }
   ],
   "source": [
    "reg.intercept_ # c"
   ]
  },
  {
   "cell_type": "code",
   "execution_count": 32,
   "id": "e18bd8ef",
   "metadata": {},
   "outputs": [
    {
     "data": {
      "text/plain": [
       "array([[143.83013436],\n",
       "       [197.53417989],\n",
       "       [184.63515112],\n",
       "       ...,\n",
       "       [160.7078525 ],\n",
       "       [186.82852694],\n",
       "       [201.4226542 ]])"
      ]
     },
     "execution_count": 32,
     "metadata": {},
     "output_type": "execute_result"
    }
   ],
   "source": [
    "reg.predict(xtest) # all number prediction"
   ]
  },
  {
   "cell_type": "markdown",
   "id": "bf43f19c",
   "metadata": {},
   "source": [
    "# Accuracy"
   ]
  },
  {
   "cell_type": "code",
   "execution_count": 33,
   "id": "9558f170",
   "metadata": {},
   "outputs": [
    {
     "data": {
      "text/plain": [
       "0.8972135459668117"
      ]
     },
     "execution_count": 33,
     "metadata": {},
     "output_type": "execute_result"
    }
   ],
   "source": [
    "reg.score(xtrain,ytrain) # training accuracy"
   ]
  },
  {
   "cell_type": "code",
   "execution_count": 34,
   "id": "0bbd2a2f",
   "metadata": {},
   "outputs": [
    {
     "data": {
      "text/plain": [
       "0.9059959607091161"
      ]
     },
     "execution_count": 34,
     "metadata": {},
     "output_type": "execute_result"
    }
   ],
   "source": [
    "reg.score(xtest,ytest) # testing accuracy"
   ]
  },
  {
   "cell_type": "markdown",
   "id": "da4c31cb",
   "metadata": {},
   "source": [
    "# MSE"
   ]
  },
  {
   "cell_type": "code",
   "execution_count": 35,
   "id": "65753b23",
   "metadata": {},
   "outputs": [],
   "source": [
    "from sklearn.metrics import mean_squared_error # input mean_squared_error"
   ]
  },
  {
   "cell_type": "code",
   "execution_count": 36,
   "id": "2deef879",
   "metadata": {},
   "outputs": [
    {
     "data": {
      "text/plain": [
       "99.67250998070031"
      ]
     },
     "execution_count": 36,
     "metadata": {},
     "output_type": "execute_result"
    }
   ],
   "source": [
    "mean_squared_error(ytest,reg.predict(xtest)) # actual - predicted"
   ]
  },
  {
   "cell_type": "markdown",
   "id": "13560ce7",
   "metadata": {},
   "source": [
    "# KNeighborsRegressor"
   ]
  },
  {
   "cell_type": "code",
   "execution_count": 37,
   "id": "4627dc43",
   "metadata": {},
   "outputs": [],
   "source": [
    "from sklearn.neighbors import KNeighborsRegressor # input KNeighborsRegressor"
   ]
  },
  {
   "cell_type": "code",
   "execution_count": 38,
   "id": "3b7b3f92",
   "metadata": {},
   "outputs": [],
   "source": [
    "knr = KNeighborsRegressor # createing KNeighborsRegressor object"
   ]
  },
  {
   "cell_type": "markdown",
   "id": "b1670630",
   "metadata": {},
   "source": [
    "# KNN(distance)"
   ]
  },
  {
   "cell_type": "code",
   "execution_count": 39,
   "id": "4bb0aefd",
   "metadata": {},
   "outputs": [],
   "source": [
    "n = knr(n_neighbors=15) # createing distance"
   ]
  },
  {
   "cell_type": "code",
   "execution_count": 40,
   "id": "351d5264",
   "metadata": {},
   "outputs": [
    {
     "data": {
      "text/plain": [
       "KNeighborsRegressor(n_neighbors=15)"
      ]
     },
     "execution_count": 40,
     "metadata": {},
     "output_type": "execute_result"
    }
   ],
   "source": [
    "n.fit(xtrain,ytrain) # training and testing data the model"
   ]
  },
  {
   "cell_type": "code",
   "execution_count": 41,
   "id": "2b1d50e1",
   "metadata": {},
   "outputs": [
    {
     "data": {
      "text/plain": [
       "array([[147.52628523],\n",
       "       [199.18926683],\n",
       "       [182.00210297],\n",
       "       ...,\n",
       "       [162.47572602],\n",
       "       [185.50562864],\n",
       "       [200.64847604]])"
      ]
     },
     "execution_count": 41,
     "metadata": {},
     "output_type": "execute_result"
    }
   ],
   "source": [
    "n.predict(xtest) # all number prediction"
   ]
  },
  {
   "cell_type": "markdown",
   "id": "865b091b",
   "metadata": {},
   "source": [
    "# Accuracy"
   ]
  },
  {
   "cell_type": "code",
   "execution_count": 42,
   "id": "69824367",
   "metadata": {},
   "outputs": [
    {
     "data": {
      "text/plain": [
       "0.9030768628511936"
      ]
     },
     "execution_count": 42,
     "metadata": {},
     "output_type": "execute_result"
    }
   ],
   "source": [
    "n.score(xtrain,ytrain) # training accuracy"
   ]
  },
  {
   "cell_type": "code",
   "execution_count": 43,
   "id": "e633480d",
   "metadata": {},
   "outputs": [
    {
     "data": {
      "text/plain": [
       "0.8981209832950068"
      ]
     },
     "execution_count": 43,
     "metadata": {},
     "output_type": "execute_result"
    }
   ],
   "source": [
    "n.score(xtest,ytest) # test accuracy"
   ]
  },
  {
   "cell_type": "markdown",
   "id": "278f4033",
   "metadata": {},
   "source": [
    "# MSE"
   ]
  },
  {
   "cell_type": "code",
   "execution_count": 44,
   "id": "3fe56455",
   "metadata": {},
   "outputs": [
    {
     "data": {
      "text/plain": [
       "108.0223508048458"
      ]
     },
     "execution_count": 44,
     "metadata": {},
     "output_type": "execute_result"
    }
   ],
   "source": [
    "mean_squared_error(ytest,n.predict(xtest)) # actual - predicted"
   ]
  },
  {
   "cell_type": "markdown",
   "id": "08187752",
   "metadata": {},
   "source": [
    "# KNN(uniform)"
   ]
  },
  {
   "cell_type": "code",
   "execution_count": 45,
   "id": "092906c2",
   "metadata": {},
   "outputs": [],
   "source": [
    "n_1= knr(weights='uniform') # createing uniform"
   ]
  },
  {
   "cell_type": "code",
   "execution_count": 46,
   "id": "31f00ee1",
   "metadata": {},
   "outputs": [
    {
     "data": {
      "text/plain": [
       "KNeighborsRegressor()"
      ]
     },
     "execution_count": 46,
     "metadata": {},
     "output_type": "execute_result"
    }
   ],
   "source": [
    "n_1.fit(xtrain,ytrain) # training and testing data the model"
   ]
  },
  {
   "cell_type": "code",
   "execution_count": 47,
   "id": "b579a3dc",
   "metadata": {},
   "outputs": [
    {
     "data": {
      "text/plain": [
       "array([[150.1761117 ],\n",
       "       [197.46276978],\n",
       "       [179.03501546],\n",
       "       ...,\n",
       "       [160.26227546],\n",
       "       [180.65461322],\n",
       "       [200.56451578]])"
      ]
     },
     "execution_count": 47,
     "metadata": {},
     "output_type": "execute_result"
    }
   ],
   "source": [
    "n_1.predict(xtest) # all number prediction"
   ]
  },
  {
   "cell_type": "markdown",
   "id": "8350b2da",
   "metadata": {},
   "source": [
    "# Accuracy"
   ]
  },
  {
   "cell_type": "code",
   "execution_count": 48,
   "id": "e6de4624",
   "metadata": {},
   "outputs": [
    {
     "data": {
      "text/plain": [
       "0.9170756955071054"
      ]
     },
     "execution_count": 48,
     "metadata": {},
     "output_type": "execute_result"
    }
   ],
   "source": [
    "n_1.score(xtrain,ytrain) # training accuracy"
   ]
  },
  {
   "cell_type": "code",
   "execution_count": 49,
   "id": "01d8d94b",
   "metadata": {},
   "outputs": [
    {
     "data": {
      "text/plain": [
       "0.8838502073708883"
      ]
     },
     "execution_count": 49,
     "metadata": {},
     "output_type": "execute_result"
    }
   ],
   "source": [
    "n_1.score(xtest,ytest) # test accuracy"
   ]
  },
  {
   "cell_type": "markdown",
   "id": "c1bb6ead",
   "metadata": {},
   "source": [
    "# MSE"
   ]
  },
  {
   "cell_type": "code",
   "execution_count": 50,
   "id": "ce8f2518",
   "metadata": {},
   "outputs": [
    {
     "data": {
      "text/plain": [
       "123.15365863436983"
      ]
     },
     "execution_count": 50,
     "metadata": {},
     "output_type": "execute_result"
    }
   ],
   "source": [
    "mean_squared_error(ytest,n_1.predict(xtest)) # actual - predicted"
   ]
  },
  {
   "cell_type": "markdown",
   "id": "45e76f81",
   "metadata": {},
   "source": [
    "# KNeighborsClassifier"
   ]
  },
  {
   "cell_type": "code",
   "execution_count": 51,
   "id": "24fa8a7b",
   "metadata": {},
   "outputs": [
    {
     "data": {
      "text/html": [
       "<div>\n",
       "<style scoped>\n",
       "    .dataframe tbody tr th:only-of-type {\n",
       "        vertical-align: middle;\n",
       "    }\n",
       "\n",
       "    .dataframe tbody tr th {\n",
       "        vertical-align: top;\n",
       "    }\n",
       "\n",
       "    .dataframe thead th {\n",
       "        text-align: right;\n",
       "    }\n",
       "</style>\n",
       "<table border=\"1\" class=\"dataframe\">\n",
       "  <thead>\n",
       "    <tr style=\"text-align: right;\">\n",
       "      <th></th>\n",
       "      <th>Gender</th>\n",
       "      <th>Height</th>\n",
       "      <th>Weight</th>\n",
       "    </tr>\n",
       "  </thead>\n",
       "  <tbody>\n",
       "    <tr>\n",
       "      <th>0</th>\n",
       "      <td>1</td>\n",
       "      <td>73.847017</td>\n",
       "      <td>241.893563</td>\n",
       "    </tr>\n",
       "    <tr>\n",
       "      <th>1</th>\n",
       "      <td>1</td>\n",
       "      <td>68.781904</td>\n",
       "      <td>162.310473</td>\n",
       "    </tr>\n",
       "    <tr>\n",
       "      <th>2</th>\n",
       "      <td>1</td>\n",
       "      <td>74.110105</td>\n",
       "      <td>212.740856</td>\n",
       "    </tr>\n",
       "    <tr>\n",
       "      <th>3</th>\n",
       "      <td>1</td>\n",
       "      <td>71.730978</td>\n",
       "      <td>220.042470</td>\n",
       "    </tr>\n",
       "    <tr>\n",
       "      <th>4</th>\n",
       "      <td>1</td>\n",
       "      <td>69.881796</td>\n",
       "      <td>206.349801</td>\n",
       "    </tr>\n",
       "  </tbody>\n",
       "</table>\n",
       "</div>"
      ],
      "text/plain": [
       "   Gender     Height      Weight\n",
       "0       1  73.847017  241.893563\n",
       "1       1  68.781904  162.310473\n",
       "2       1  74.110105  212.740856\n",
       "3       1  71.730978  220.042470\n",
       "4       1  69.881796  206.349801"
      ]
     },
     "execution_count": 51,
     "metadata": {},
     "output_type": "execute_result"
    }
   ],
   "source": [
    "df.head() # csv file show"
   ]
  },
  {
   "cell_type": "code",
   "execution_count": 52,
   "id": "07d68948",
   "metadata": {},
   "outputs": [],
   "source": [
    "x = df[[\"Height\",\"Weight\"]] # two dimensional array to x (Gender & Height)"
   ]
  },
  {
   "cell_type": "code",
   "execution_count": 53,
   "id": "0adb9f2b",
   "metadata": {},
   "outputs": [],
   "source": [
    "y = df[[\"Gender\"]] # two dimensional array to y (Weight)"
   ]
  },
  {
   "cell_type": "code",
   "execution_count": 54,
   "id": "9a41cbfc",
   "metadata": {},
   "outputs": [
    {
     "data": {
      "text/html": [
       "<div>\n",
       "<style scoped>\n",
       "    .dataframe tbody tr th:only-of-type {\n",
       "        vertical-align: middle;\n",
       "    }\n",
       "\n",
       "    .dataframe tbody tr th {\n",
       "        vertical-align: top;\n",
       "    }\n",
       "\n",
       "    .dataframe thead th {\n",
       "        text-align: right;\n",
       "    }\n",
       "</style>\n",
       "<table border=\"1\" class=\"dataframe\">\n",
       "  <thead>\n",
       "    <tr style=\"text-align: right;\">\n",
       "      <th></th>\n",
       "      <th>Height</th>\n",
       "      <th>Weight</th>\n",
       "    </tr>\n",
       "  </thead>\n",
       "  <tbody>\n",
       "    <tr>\n",
       "      <th>0</th>\n",
       "      <td>73.847017</td>\n",
       "      <td>241.893563</td>\n",
       "    </tr>\n",
       "    <tr>\n",
       "      <th>1</th>\n",
       "      <td>68.781904</td>\n",
       "      <td>162.310473</td>\n",
       "    </tr>\n",
       "    <tr>\n",
       "      <th>2</th>\n",
       "      <td>74.110105</td>\n",
       "      <td>212.740856</td>\n",
       "    </tr>\n",
       "    <tr>\n",
       "      <th>3</th>\n",
       "      <td>71.730978</td>\n",
       "      <td>220.042470</td>\n",
       "    </tr>\n",
       "    <tr>\n",
       "      <th>4</th>\n",
       "      <td>69.881796</td>\n",
       "      <td>206.349801</td>\n",
       "    </tr>\n",
       "  </tbody>\n",
       "</table>\n",
       "</div>"
      ],
      "text/plain": [
       "      Height      Weight\n",
       "0  73.847017  241.893563\n",
       "1  68.781904  162.310473\n",
       "2  74.110105  212.740856\n",
       "3  71.730978  220.042470\n",
       "4  69.881796  206.349801"
      ]
     },
     "execution_count": 54,
     "metadata": {},
     "output_type": "execute_result"
    }
   ],
   "source": [
    "x.head()  # two dimensional array to y show"
   ]
  },
  {
   "cell_type": "code",
   "execution_count": 55,
   "id": "cc38c604",
   "metadata": {},
   "outputs": [
    {
     "data": {
      "text/html": [
       "<div>\n",
       "<style scoped>\n",
       "    .dataframe tbody tr th:only-of-type {\n",
       "        vertical-align: middle;\n",
       "    }\n",
       "\n",
       "    .dataframe tbody tr th {\n",
       "        vertical-align: top;\n",
       "    }\n",
       "\n",
       "    .dataframe thead th {\n",
       "        text-align: right;\n",
       "    }\n",
       "</style>\n",
       "<table border=\"1\" class=\"dataframe\">\n",
       "  <thead>\n",
       "    <tr style=\"text-align: right;\">\n",
       "      <th></th>\n",
       "      <th>Gender</th>\n",
       "    </tr>\n",
       "  </thead>\n",
       "  <tbody>\n",
       "    <tr>\n",
       "      <th>0</th>\n",
       "      <td>1</td>\n",
       "    </tr>\n",
       "    <tr>\n",
       "      <th>1</th>\n",
       "      <td>1</td>\n",
       "    </tr>\n",
       "    <tr>\n",
       "      <th>2</th>\n",
       "      <td>1</td>\n",
       "    </tr>\n",
       "    <tr>\n",
       "      <th>3</th>\n",
       "      <td>1</td>\n",
       "    </tr>\n",
       "    <tr>\n",
       "      <th>4</th>\n",
       "      <td>1</td>\n",
       "    </tr>\n",
       "  </tbody>\n",
       "</table>\n",
       "</div>"
      ],
      "text/plain": [
       "   Gender\n",
       "0       1\n",
       "1       1\n",
       "2       1\n",
       "3       1\n",
       "4       1"
      ]
     },
     "execution_count": 55,
     "metadata": {},
     "output_type": "execute_result"
    }
   ],
   "source": [
    "y.head() # two dimensional array to x show"
   ]
  },
  {
   "cell_type": "code",
   "execution_count": 56,
   "id": "2f0410b2",
   "metadata": {},
   "outputs": [],
   "source": [
    "xtrain,xtest,ytrain,ytest = train_test_split(x,y,train_size=0.70,random_state=1) #training & testing  data"
   ]
  },
  {
   "cell_type": "code",
   "execution_count": 57,
   "id": "ea5d6fbe",
   "metadata": {},
   "outputs": [
    {
     "data": {
      "text/html": [
       "<div>\n",
       "<style scoped>\n",
       "    .dataframe tbody tr th:only-of-type {\n",
       "        vertical-align: middle;\n",
       "    }\n",
       "\n",
       "    .dataframe tbody tr th {\n",
       "        vertical-align: top;\n",
       "    }\n",
       "\n",
       "    .dataframe thead th {\n",
       "        text-align: right;\n",
       "    }\n",
       "</style>\n",
       "<table border=\"1\" class=\"dataframe\">\n",
       "  <thead>\n",
       "    <tr style=\"text-align: right;\">\n",
       "      <th></th>\n",
       "      <th>Height</th>\n",
       "      <th>Weight</th>\n",
       "    </tr>\n",
       "  </thead>\n",
       "  <tbody>\n",
       "    <tr>\n",
       "      <th>1277</th>\n",
       "      <td>72.385301</td>\n",
       "      <td>189.165592</td>\n",
       "    </tr>\n",
       "    <tr>\n",
       "      <th>5361</th>\n",
       "      <td>60.960147</td>\n",
       "      <td>124.876796</td>\n",
       "    </tr>\n",
       "    <tr>\n",
       "      <th>5728</th>\n",
       "      <td>69.119292</td>\n",
       "      <td>168.864403</td>\n",
       "    </tr>\n",
       "    <tr>\n",
       "      <th>4276</th>\n",
       "      <td>68.271050</td>\n",
       "      <td>172.941248</td>\n",
       "    </tr>\n",
       "    <tr>\n",
       "      <th>3112</th>\n",
       "      <td>64.991405</td>\n",
       "      <td>144.551044</td>\n",
       "    </tr>\n",
       "  </tbody>\n",
       "</table>\n",
       "</div>"
      ],
      "text/plain": [
       "         Height      Weight\n",
       "1277  72.385301  189.165592\n",
       "5361  60.960147  124.876796\n",
       "5728  69.119292  168.864403\n",
       "4276  68.271050  172.941248\n",
       "3112  64.991405  144.551044"
      ]
     },
     "execution_count": 57,
     "metadata": {},
     "output_type": "execute_result"
    }
   ],
   "source": [
    "xtrain.head() # training x data show"
   ]
  },
  {
   "cell_type": "code",
   "execution_count": 58,
   "id": "cab713c6",
   "metadata": {},
   "outputs": [
    {
     "data": {
      "text/plain": [
       "(5988, 2)"
      ]
     },
     "execution_count": 58,
     "metadata": {},
     "output_type": "execute_result"
    }
   ],
   "source": [
    "xtrain.shape # training x data size"
   ]
  },
  {
   "cell_type": "code",
   "execution_count": 59,
   "id": "50774348",
   "metadata": {},
   "outputs": [
    {
     "data": {
      "text/html": [
       "<div>\n",
       "<style scoped>\n",
       "    .dataframe tbody tr th:only-of-type {\n",
       "        vertical-align: middle;\n",
       "    }\n",
       "\n",
       "    .dataframe tbody tr th {\n",
       "        vertical-align: top;\n",
       "    }\n",
       "\n",
       "    .dataframe thead th {\n",
       "        text-align: right;\n",
       "    }\n",
       "</style>\n",
       "<table border=\"1\" class=\"dataframe\">\n",
       "  <thead>\n",
       "    <tr style=\"text-align: right;\">\n",
       "      <th></th>\n",
       "      <th>Gender</th>\n",
       "    </tr>\n",
       "  </thead>\n",
       "  <tbody>\n",
       "    <tr>\n",
       "      <th>1277</th>\n",
       "      <td>1</td>\n",
       "    </tr>\n",
       "    <tr>\n",
       "      <th>5361</th>\n",
       "      <td>0</td>\n",
       "    </tr>\n",
       "    <tr>\n",
       "      <th>5728</th>\n",
       "      <td>0</td>\n",
       "    </tr>\n",
       "    <tr>\n",
       "      <th>4276</th>\n",
       "      <td>1</td>\n",
       "    </tr>\n",
       "    <tr>\n",
       "      <th>3112</th>\n",
       "      <td>1</td>\n",
       "    </tr>\n",
       "  </tbody>\n",
       "</table>\n",
       "</div>"
      ],
      "text/plain": [
       "      Gender\n",
       "1277       1\n",
       "5361       0\n",
       "5728       0\n",
       "4276       1\n",
       "3112       1"
      ]
     },
     "execution_count": 59,
     "metadata": {},
     "output_type": "execute_result"
    }
   ],
   "source": [
    "ytrain.head() # training y data show"
   ]
  },
  {
   "cell_type": "code",
   "execution_count": 60,
   "id": "e5507687",
   "metadata": {},
   "outputs": [
    {
     "data": {
      "text/plain": [
       "(5988, 1)"
      ]
     },
     "execution_count": 60,
     "metadata": {},
     "output_type": "execute_result"
    }
   ],
   "source": [
    "ytrain.shape # training y data size"
   ]
  },
  {
   "cell_type": "code",
   "execution_count": 61,
   "id": "19c00e36",
   "metadata": {},
   "outputs": [],
   "source": [
    "from sklearn.neighbors import KNeighborsClassifier # input KNeighborsClassifier"
   ]
  },
  {
   "cell_type": "code",
   "execution_count": 62,
   "id": "739bd583",
   "metadata": {},
   "outputs": [],
   "source": [
    "knc = KNeighborsClassifier # createing KNeighborsClassifier object"
   ]
  },
  {
   "cell_type": "markdown",
   "id": "3ad7fa10",
   "metadata": {},
   "source": [
    "# KNN(distance)"
   ]
  },
  {
   "cell_type": "code",
   "execution_count": 63,
   "id": "d481ac09",
   "metadata": {},
   "outputs": [],
   "source": [
    "n_2 = knc(n_neighbors=15) # createing distance"
   ]
  },
  {
   "cell_type": "code",
   "execution_count": 64,
   "id": "9282a491",
   "metadata": {},
   "outputs": [
    {
     "data": {
      "text/plain": [
       "KNeighborsClassifier(n_neighbors=15)"
      ]
     },
     "execution_count": 64,
     "metadata": {},
     "output_type": "execute_result"
    }
   ],
   "source": [
    "n_2.fit(xtrain,ytrain) # training and testing data the model"
   ]
  },
  {
   "cell_type": "code",
   "execution_count": 65,
   "id": "6642b1e9",
   "metadata": {},
   "outputs": [
    {
     "data": {
      "text/plain": [
       "array([1, 1, 1, ..., 0, 1, 1])"
      ]
     },
     "execution_count": 65,
     "metadata": {},
     "output_type": "execute_result"
    }
   ],
   "source": [
    "n_2.predict(xtest) # all number prediction"
   ]
  },
  {
   "cell_type": "markdown",
   "id": "564363df",
   "metadata": {},
   "source": [
    "# Accuracy"
   ]
  },
  {
   "cell_type": "code",
   "execution_count": 66,
   "id": "52349c2e",
   "metadata": {},
   "outputs": [
    {
     "data": {
      "text/plain": [
       "0.9186706746826987"
      ]
     },
     "execution_count": 66,
     "metadata": {},
     "output_type": "execute_result"
    }
   ],
   "source": [
    "n_2.score(xtrain,ytrain) # training accuracy"
   ]
  },
  {
   "cell_type": "code",
   "execution_count": 67,
   "id": "78809985",
   "metadata": {},
   "outputs": [
    {
     "data": {
      "text/plain": [
       "0.9244253992987924"
      ]
     },
     "execution_count": 67,
     "metadata": {},
     "output_type": "execute_result"
    }
   ],
   "source": [
    "n_2.score(xtest,ytest) # testing accuracy"
   ]
  },
  {
   "cell_type": "markdown",
   "id": "353bff5a",
   "metadata": {},
   "source": [
    "# MSE"
   ]
  },
  {
   "cell_type": "code",
   "execution_count": 68,
   "id": "eec9b08d",
   "metadata": {},
   "outputs": [
    {
     "data": {
      "text/plain": [
       "0.07557460070120764"
      ]
     },
     "execution_count": 68,
     "metadata": {},
     "output_type": "execute_result"
    }
   ],
   "source": [
    "mean_squared_error(ytest,n_2.predict(xtest)) # actual - predicted"
   ]
  },
  {
   "cell_type": "markdown",
   "id": "376c8850",
   "metadata": {},
   "source": [
    "# KNN(uniform)"
   ]
  },
  {
   "cell_type": "code",
   "execution_count": 69,
   "id": "ddcab8f9",
   "metadata": {},
   "outputs": [],
   "source": [
    "n_3 = knc(weights='uniform') # createing uniform"
   ]
  },
  {
   "cell_type": "code",
   "execution_count": 70,
   "id": "b7ff2b1b",
   "metadata": {},
   "outputs": [
    {
     "data": {
      "text/plain": [
       "KNeighborsClassifier()"
      ]
     },
     "execution_count": 70,
     "metadata": {},
     "output_type": "execute_result"
    }
   ],
   "source": [
    "n_3.fit(xtrain,ytrain) # training and testing data the model"
   ]
  },
  {
   "cell_type": "code",
   "execution_count": 71,
   "id": "19ead3c1",
   "metadata": {},
   "outputs": [
    {
     "data": {
      "text/plain": [
       "array([1, 1, 1, ..., 0, 1, 1])"
      ]
     },
     "execution_count": 71,
     "metadata": {},
     "output_type": "execute_result"
    }
   ],
   "source": [
    "n_3.predict(xtest) # all number prediction"
   ]
  },
  {
   "cell_type": "markdown",
   "id": "35d95345",
   "metadata": {},
   "source": [
    "# Accuracy"
   ]
  },
  {
   "cell_type": "code",
   "execution_count": 72,
   "id": "56b2c04b",
   "metadata": {},
   "outputs": [
    {
     "data": {
      "text/plain": [
       "0.9263527054108216"
      ]
     },
     "execution_count": 72,
     "metadata": {},
     "output_type": "execute_result"
    }
   ],
   "source": [
    "n_3.score(xtrain,ytrain) # training accuracy"
   ]
  },
  {
   "cell_type": "code",
   "execution_count": 73,
   "id": "e56be6c0",
   "metadata": {},
   "outputs": [
    {
     "data": {
      "text/plain": [
       "0.9146864043630697"
      ]
     },
     "execution_count": 73,
     "metadata": {},
     "output_type": "execute_result"
    }
   ],
   "source": [
    "n_3.score(xtest,ytest) # testing accuracy"
   ]
  },
  {
   "cell_type": "code",
   "execution_count": null,
   "id": "793120e4",
   "metadata": {},
   "outputs": [],
   "source": []
  }
 ],
 "metadata": {
  "kernelspec": {
   "display_name": "Python 3 (ipykernel)",
   "language": "python",
   "name": "python3"
  },
  "language_info": {
   "codemirror_mode": {
    "name": "ipython",
    "version": 3
   },
   "file_extension": ".py",
   "mimetype": "text/x-python",
   "name": "python",
   "nbconvert_exporter": "python",
   "pygments_lexer": "ipython3",
   "version": "3.9.13"
  }
 },
 "nbformat": 4,
 "nbformat_minor": 5
}
